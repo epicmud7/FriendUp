{
  "nbformat": 4,
  "nbformat_minor": 0,
  "metadata": {
    "colab": {
      "name": "QE PS6 Q6 (R).ipynb",
      "provenance": [],
      "collapsed_sections": [],
      "authorship_tag": "ABX9TyNMGmzZXflMGrwEXyi42Oim",
      "include_colab_link": true
    },
    "kernelspec": {
      "name": "ir",
      "display_name": "R"
    }
  },
  "cells": [
    {
      "cell_type": "markdown",
      "metadata": {
        "id": "view-in-github",
        "colab_type": "text"
      },
      "source": [
        "<a href=\"https://colab.research.google.com/github/epicmud7/FriendUp/blob/master/QE_PS6_Q6_(R).ipynb\" target=\"_parent\"><img src=\"https://colab.research.google.com/assets/colab-badge.svg\" alt=\"Open In Colab\"/></a>"
      ]
    },
    {
      "cell_type": "code",
      "metadata": {
        "id": "UCYOl17Rvqq-"
      },
      "source": [
        "install.packages('estimatr')\r\n",
        "install.packages('car')\r\n"
      ],
      "execution_count": null,
      "outputs": []
    },
    {
      "cell_type": "code",
      "metadata": {
        "colab": {
          "base_uri": "https://localhost:8080/",
          "height": 207
        },
        "id": "suTTP6yRyLYX",
        "outputId": "6a053989-97fb-4b45-e40d-45c9d1e75596"
      },
      "source": [
        "fert <- read.csv('fertility.csv')\r\n",
        "head(fert)\r\n",
        "library(estimatr)\r\n",
        "library(car)"
      ],
      "execution_count": 10,
      "outputs": [
        {
          "output_type": "display_data",
          "data": {
            "text/plain": [
              "  morekids boy1st boy2nd samesex agem1 black hispan othrace weeksm1\n",
              "1 0        1      0      0       27    0     0      0        0     \n",
              "2 0        0      1      0       30    0     0      0       30     \n",
              "3 0        1      0      0       27    0     0      0        0     \n",
              "4 0        1      0      0       35    1     0      0        0     \n",
              "5 0        0      0      1       30    0     0      0       22     \n",
              "6 0        1      0      0       26    0     0      0       40     "
            ],
            "text/latex": "A data.frame: 6 × 9\n\\begin{tabular}{r|lllllllll}\n  & morekids & boy1st & boy2nd & samesex & agem1 & black & hispan & othrace & weeksm1\\\\\n  & <int> & <int> & <int> & <int> & <int> & <int> & <int> & <int> & <int>\\\\\n\\hline\n\t1 & 0 & 1 & 0 & 0 & 27 & 0 & 0 & 0 &  0\\\\\n\t2 & 0 & 0 & 1 & 0 & 30 & 0 & 0 & 0 & 30\\\\\n\t3 & 0 & 1 & 0 & 0 & 27 & 0 & 0 & 0 &  0\\\\\n\t4 & 0 & 1 & 0 & 0 & 35 & 1 & 0 & 0 &  0\\\\\n\t5 & 0 & 0 & 0 & 1 & 30 & 0 & 0 & 0 & 22\\\\\n\t6 & 0 & 1 & 0 & 0 & 26 & 0 & 0 & 0 & 40\\\\\n\\end{tabular}\n",
            "text/markdown": "\nA data.frame: 6 × 9\n\n| <!--/--> | morekids &lt;int&gt; | boy1st &lt;int&gt; | boy2nd &lt;int&gt; | samesex &lt;int&gt; | agem1 &lt;int&gt; | black &lt;int&gt; | hispan &lt;int&gt; | othrace &lt;int&gt; | weeksm1 &lt;int&gt; |\n|---|---|---|---|---|---|---|---|---|---|\n| 1 | 0 | 1 | 0 | 0 | 27 | 0 | 0 | 0 |  0 |\n| 2 | 0 | 0 | 1 | 0 | 30 | 0 | 0 | 0 | 30 |\n| 3 | 0 | 1 | 0 | 0 | 27 | 0 | 0 | 0 |  0 |\n| 4 | 0 | 1 | 0 | 0 | 35 | 1 | 0 | 0 |  0 |\n| 5 | 0 | 0 | 0 | 1 | 30 | 0 | 0 | 0 | 22 |\n| 6 | 0 | 1 | 0 | 0 | 26 | 0 | 0 | 0 | 40 |\n\n",
            "text/html": [
              "<table>\n",
              "<caption>A data.frame: 6 × 9</caption>\n",
              "<thead>\n",
              "\t<tr><th></th><th scope=col>morekids</th><th scope=col>boy1st</th><th scope=col>boy2nd</th><th scope=col>samesex</th><th scope=col>agem1</th><th scope=col>black</th><th scope=col>hispan</th><th scope=col>othrace</th><th scope=col>weeksm1</th></tr>\n",
              "\t<tr><th></th><th scope=col>&lt;int&gt;</th><th scope=col>&lt;int&gt;</th><th scope=col>&lt;int&gt;</th><th scope=col>&lt;int&gt;</th><th scope=col>&lt;int&gt;</th><th scope=col>&lt;int&gt;</th><th scope=col>&lt;int&gt;</th><th scope=col>&lt;int&gt;</th><th scope=col>&lt;int&gt;</th></tr>\n",
              "</thead>\n",
              "<tbody>\n",
              "\t<tr><th scope=row>1</th><td>0</td><td>1</td><td>0</td><td>0</td><td>27</td><td>0</td><td>0</td><td>0</td><td> 0</td></tr>\n",
              "\t<tr><th scope=row>2</th><td>0</td><td>0</td><td>1</td><td>0</td><td>30</td><td>0</td><td>0</td><td>0</td><td>30</td></tr>\n",
              "\t<tr><th scope=row>3</th><td>0</td><td>1</td><td>0</td><td>0</td><td>27</td><td>0</td><td>0</td><td>0</td><td> 0</td></tr>\n",
              "\t<tr><th scope=row>4</th><td>0</td><td>1</td><td>0</td><td>0</td><td>35</td><td>1</td><td>0</td><td>0</td><td> 0</td></tr>\n",
              "\t<tr><th scope=row>5</th><td>0</td><td>0</td><td>0</td><td>1</td><td>30</td><td>0</td><td>0</td><td>0</td><td>22</td></tr>\n",
              "\t<tr><th scope=row>6</th><td>0</td><td>1</td><td>0</td><td>0</td><td>26</td><td>0</td><td>0</td><td>0</td><td>40</td></tr>\n",
              "</tbody>\n",
              "</table>\n"
            ]
          },
          "metadata": {
            "tags": []
          }
        }
      ]
    },
    {
      "cell_type": "code",
      "metadata": {
        "colab": {
          "base_uri": "https://localhost:8080/",
          "height": 34
        },
        "id": "BdUM930iya3J",
        "outputId": "6fda04e9-75ce-446e-ed6a-10e5e1eb8d0c"
      },
      "source": [
        "# Extract values\r\n",
        "morekids <- fert$morekids\r\n",
        "boy1st <- fert$boy1st\r\n",
        "boy2nd <- fert$boy2nd\r\n",
        "samesex <- fert$samesex\r\n",
        "agemn1 <- fert$agem1\r\n",
        "black <- fert$black\r\n",
        "hispan <- fert$hispan\r\n",
        "othrace <- fert$othrace\r\n",
        "weeksm1 <- fert$weeksm1\r\n"
      ],
      "execution_count": 48,
      "outputs": [
        {
          "output_type": "display_data",
          "data": {
            "text/plain": [
              "[1] 254654"
            ],
            "text/latex": "254654",
            "text/markdown": "254654",
            "text/html": [
              "254654"
            ]
          },
          "metadata": {
            "tags": []
          }
        }
      ]
    },
    {
      "cell_type": "code",
      "metadata": {
        "id": "FwcRiQrSzqXq"
      },
      "source": [
        "# a)\r\n",
        "# OLS regression: Y = B0 + B1Di + U\r\n",
        "# morekids = 1 if mum has more than 2 kids\r\n",
        "add_kids <- summary(lm_robust(formula = weeksm1 ~ morekids, data = fert))\r\n",
        "add_kids\r\n",
        "ad_coef <- add_kids$coefficient[\"morekids\",\"Estimate\"]\r\n",
        "\r\n",
        "# Using sprintf() for string interpolation\r\n",
        "sprintf(\"On average, in the sample, the effect of having an additional child when a woman has already had two children on weeks spent working holding other variables constant is %s weeks.\", round(ad_coef, digits = 1))"
      ],
      "execution_count": null,
      "outputs": []
    },
    {
      "cell_type": "code",
      "metadata": {
        "colab": {
          "base_uri": "https://localhost:8080/",
          "height": 52
        },
        "id": "8jHGSPNa4seJ",
        "outputId": "a912a4af-5ea9-4ccf-a221-76c33d6a80cb"
      },
      "source": [
        "# b)\r\n",
        "\"The regression in a) will not give an estimate of the causal effect of fertility on labour supply because the residual of the regression is not orthogonal to variables used to estimate the labour supply.\"\r\n",
        "\"For example, there is likely to be a correlation between number of children and wealth (not included as a variable in the regression) which also affects number of weeks worth.\""
      ],
      "execution_count": 29,
      "outputs": [
        {
          "output_type": "display_data",
          "data": {
            "text/plain": [
              "[1] \"The regression in a) will not give an estimate of the causal effect of fertility on labour supply because the residual of the regression is not orthogonal to variables used to estimate the labour supply.\""
            ],
            "text/latex": "'The regression in a) will not give an estimate of the causal effect of fertility on labour supply because the residual of the regression is not orthogonal to variables used to estimate the labour supply.'",
            "text/markdown": "'The regression in a) will not give an estimate of the causal effect of fertility on labour supply because the residual of the regression is not orthogonal to variables used to estimate the labour supply.'",
            "text/html": [
              "'The regression in a) will not give an estimate of the causal effect of fertility on labour supply because the residual of the regression is not orthogonal to variables used to estimate the labour supply.'"
            ]
          },
          "metadata": {
            "tags": []
          }
        },
        {
          "output_type": "display_data",
          "data": {
            "text/plain": [
              "[1] \"For example, there is likely to be a correlation between number of children and wealth (not included as a variable in the regression) which also affects number of weeks worth.\""
            ],
            "text/latex": "'For example, there is likely to be a correlation between number of children and wealth (not included as a variable in the regression) which also affects number of weeks worth.'",
            "text/markdown": "'For example, there is likely to be a correlation between number of children and wealth (not included as a variable in the regression) which also affects number of weeks worth.'",
            "text/html": [
              "'For example, there is likely to be a correlation between number of children and wealth (not included as a variable in the regression) which also affects number of weeks worth.'"
            ]
          },
          "metadata": {
            "tags": []
          }
        }
      ]
    },
    {
      "cell_type": "code",
      "metadata": {
        "colab": {
          "base_uri": "https://localhost:8080/",
          "height": 391
        },
        "id": "jeUqZbUR6vym",
        "outputId": "ea9354dd-d911-4648-d01c-519ef4439a97"
      },
      "source": [
        "# c)\r\n",
        "# i) t test of mean morekids between boy1st==1 and boy1st==0\r\n",
        "m_morekids <- fert$morekids[fert$boy1st==1]\r\n",
        "f_morekids <- fert$morekids[fert$boy1st==0]\r\n",
        "mean(m_morekids)\r\n",
        "mean(f_morekids)\r\n",
        "\r\n",
        "# 1. Hypotheses:\r\n",
        "\"H0: No diff in mean fertility between those whose first child was male vs female\"\r\n",
        "\"ha: There is a diff in mean fertility between the groups\"\r\n",
        "\r\n",
        "# 2. Decision Rule:\r\n",
        "\"alpha = 0.05\"\r\n",
        "crit <- qt(0.975, nrow(fert))\r\n",
        "sprintf(\"Reject H0 if |t| > %s\", qt(0.975, nrow(fert)))\r\n",
        "\r\n",
        "# 3. Calculate t value:\r\n",
        "ttest <- t.test(f_morekids, m_morekids, mu=0, alternative=\"two.sided\")\r\n",
        "ttest\r\n",
        "\r\n",
        "# 4. Compare with critical value:\r\n",
        "sprintf(\"%s > %s\", ttest$statistic, crit)\r\n",
        "\"We can therefore reject the hypothesis that there is no difference in fertility between those who have male first child and those who have a female first child.\"\r\n",
        "'Those who have a male first child on average in the same go on to have more than two children less frequently than those who have a female first child.'\r\n",
        "\"This could be because of the desire to have a son that could mean that those who have a male first child are less likely to have more than two kids that those whose first two children are female.\""
      ],
      "execution_count": 68,
      "outputs": [
        {
          "output_type": "display_data",
          "data": {
            "text/plain": [
              "[1] 0.376275"
            ],
            "text/latex": "0.376274964881207",
            "text/markdown": "0.376274964881207",
            "text/html": [
              "0.376274964881207"
            ]
          },
          "metadata": {
            "tags": []
          }
        },
        {
          "output_type": "display_data",
          "data": {
            "text/plain": [
              "[1] 0.3851055"
            ],
            "text/latex": "0.38510552276219",
            "text/markdown": "0.38510552276219",
            "text/html": [
              "0.38510552276219"
            ]
          },
          "metadata": {
            "tags": []
          }
        },
        {
          "output_type": "display_data",
          "data": {
            "text/plain": [
              "[1] \"H0: No diff in mean fertility between those whose first child was male vs female\""
            ],
            "text/latex": "'H0: No diff in mean fertility between those whose first child was male vs female'",
            "text/markdown": "'H0: No diff in mean fertility between those whose first child was male vs female'",
            "text/html": [
              "'H0: No diff in mean fertility between those whose first child was male vs female'"
            ]
          },
          "metadata": {
            "tags": []
          }
        },
        {
          "output_type": "display_data",
          "data": {
            "text/plain": [
              "[1] \"ha: There is a diff in mean fertility between the groups\""
            ],
            "text/latex": "'ha: There is a diff in mean fertility between the groups'",
            "text/markdown": "'ha: There is a diff in mean fertility between the groups'",
            "text/html": [
              "'ha: There is a diff in mean fertility between the groups'"
            ]
          },
          "metadata": {
            "tags": []
          }
        },
        {
          "output_type": "display_data",
          "data": {
            "text/plain": [
              "[1] \"alpha = 0.05\""
            ],
            "text/latex": "'alpha = 0.05'",
            "text/markdown": "'alpha = 0.05'",
            "text/html": [
              "'alpha = 0.05'"
            ]
          },
          "metadata": {
            "tags": []
          }
        },
        {
          "output_type": "display_data",
          "data": {
            "text/plain": [
              "[1] \"Reject H0 if |t| > 1.95997330024809\""
            ],
            "text/latex": "'Reject H0 if \\textbar{}t\\textbar{} > 1.95997330024809'",
            "text/markdown": "'Reject H0 if |t| &gt; 1.95997330024809'",
            "text/html": [
              "'Reject H0 if |t| &gt; 1.95997330024809'"
            ]
          },
          "metadata": {
            "tags": []
          }
        },
        {
          "output_type": "display_data",
          "data": {
            "text/plain": [
              "\n",
              "\tWelch Two Sample t-test\n",
              "\n",
              "data:  f_morekids and m_morekids\n",
              "t = 4.5867, df = 253679, p-value = 4.505e-06\n",
              "alternative hypothesis: true difference in means is not equal to 0\n",
              "95 percent confidence interval:\n",
              " 0.005057134 0.012603982\n",
              "sample estimates:\n",
              "mean of x mean of y \n",
              "0.3851055 0.3762750 \n"
            ]
          },
          "metadata": {
            "tags": []
          }
        },
        {
          "output_type": "display_data",
          "data": {
            "text/plain": [
              "[1] \"4.5867253687037 > 1.95997330024809\""
            ],
            "text/latex": "'4.5867253687037 > 1.95997330024809'",
            "text/markdown": "'4.5867253687037 &gt; 1.95997330024809'",
            "text/html": [
              "'4.5867253687037 &gt; 1.95997330024809'"
            ]
          },
          "metadata": {
            "tags": []
          }
        },
        {
          "output_type": "display_data",
          "data": {
            "text/plain": [
              "[1] \"We can therefore reject the hypothesis that there is no difference in fertility between those who have male first child and those who have a female first child \""
            ],
            "text/latex": "'We can therefore reject the hypothesis that there is no difference in fertility between those who have male first child and those who have a female first child '",
            "text/markdown": "'We can therefore reject the hypothesis that there is no difference in fertility between those who have male first child and those who have a female first child '",
            "text/html": [
              "'We can therefore reject the hypothesis that there is no difference in fertility between those who have male first child and those who have a female first child '"
            ]
          },
          "metadata": {
            "tags": []
          }
        },
        {
          "output_type": "display_data",
          "data": {
            "text/plain": [
              "[1] \"Those who have a male first child on average in the same go on to have more than two children less frequently than those who have a female first child.\""
            ],
            "text/latex": "'Those who have a male first child on average in the same go on to have more than two children less frequently than those who have a female first child.'",
            "text/markdown": "'Those who have a male first child on average in the same go on to have more than two children less frequently than those who have a female first child.'",
            "text/html": [
              "'Those who have a male first child on average in the same go on to have more than two children less frequently than those who have a female first child.'"
            ]
          },
          "metadata": {
            "tags": []
          }
        },
        {
          "output_type": "display_data",
          "data": {
            "text/plain": [
              "[1] \"This could be because of the desire to have a son that could mean that those who have a male first child are less likely to have more than two kids that those whose first two children are female.\""
            ],
            "text/latex": "'This could be because of the desire to have a son that could mean that those who have a male first child are less likely to have more than two kids that those whose first two children are female.'",
            "text/markdown": "'This could be because of the desire to have a son that could mean that those who have a male first child are less likely to have more than two kids that those whose first two children are female.'",
            "text/html": [
              "'This could be because of the desire to have a son that could mean that those who have a male first child are less likely to have more than two kids that those whose first two children are female.'"
            ]
          },
          "metadata": {
            "tags": []
          }
        }
      ]
    },
    {
      "cell_type": "code",
      "metadata": {
        "colab": {
          "base_uri": "https://localhost:8080/",
          "height": 425
        },
        "id": "yxTPEh4b-EAh",
        "outputId": "50104731-4024-4436-9af5-e063bb192352"
      },
      "source": [
        "# ii) t test of the mean of morekids between samesex==1 and samesex==0\r\n",
        "# samesex==1 when first two children are of the same sex\r\n",
        "same_morekids <- fert$morekids[fert$samesex==1]\r\n",
        "diff_morekids <- fert$morekids[fert$samesex==0]\r\n",
        "mean(same_morekids)\r\n",
        "mean(diff_morekids)\r\n",
        "\r\n",
        "# 1. Hypotheses:\r\n",
        "\"H0: No difference in average fertility between women whose first two children are of the same sex and women whose first two children are of different sex\"\r\n",
        "\"Ha: the average fertilities are not equal\"\r\n",
        "\r\n",
        "# 2. Decision Rule:\r\n",
        "\"alpha = 0.05\"\r\n",
        "\"Reject if t value lies outside +/- 1.959973 (critical values with 254614 d.o.f.)\"\r\n",
        "# calculate critical t values\r\n",
        "nrow(fert)\r\n",
        "\r\n",
        "# inputting 0.975 to qt() gives the critical value at the 0.05% s.l. for a two sided test\r\n",
        "# qt() is TDist quantile function\r\n",
        "qt(.975, nrow(fert))\r\n",
        "# WHY IS MY COUNT OF DOF DIFFERENT FROM R'S T TEST (off by 40)\r\n",
        "\r\n",
        "# 3. Calculate:\r\n",
        "ttest <- t.test(same_morekids, diff_morekids, mu=0, alternative=\"two.sided\")\r\n",
        "ttest\r\n",
        "\r\n",
        "# 4. Compare critical values\r\n",
        "\" t value: 35.188 > 1.959973\"\r\n",
        "sprintf(\"We can therefore reject the null hypothesis that there is no difference between the average fertility of women whose first two children are of the same sex and women whose first two children are of different sex\")\r\n",
        "\"This could also be due to the desire for a male heir that means that those with two female first children (samesex==1) are more likely to have further children.\""
      ],
      "execution_count": 71,
      "outputs": [
        {
          "output_type": "display_data",
          "data": {
            "text/plain": [
              "[1] 0.4139501"
            ],
            "text/latex": "0.413950056312867",
            "text/markdown": "0.413950056312867",
            "text/html": [
              "0.413950056312867"
            ]
          },
          "metadata": {
            "tags": []
          }
        },
        {
          "output_type": "display_data",
          "data": {
            "text/plain": [
              "[1] 0.3464248"
            ],
            "text/latex": "0.346424798862671",
            "text/markdown": "0.346424798862671",
            "text/html": [
              "0.346424798862671"
            ]
          },
          "metadata": {
            "tags": []
          }
        },
        {
          "output_type": "display_data",
          "data": {
            "text/plain": [
              "[1] \"H0: No difference in average fertility between women whose first two children are of the same sex and women whose first two children are of different sex\""
            ],
            "text/latex": "'H0: No difference in average fertility between women whose first two children are of the same sex and women whose first two children are of different sex'",
            "text/markdown": "'H0: No difference in average fertility between women whose first two children are of the same sex and women whose first two children are of different sex'",
            "text/html": [
              "'H0: No difference in average fertility between women whose first two children are of the same sex and women whose first two children are of different sex'"
            ]
          },
          "metadata": {
            "tags": []
          }
        },
        {
          "output_type": "display_data",
          "data": {
            "text/plain": [
              "[1] \"Ha: the average fertilities are not equal\""
            ],
            "text/latex": "'Ha: the average fertilities are not equal'",
            "text/markdown": "'Ha: the average fertilities are not equal'",
            "text/html": [
              "'Ha: the average fertilities are not equal'"
            ]
          },
          "metadata": {
            "tags": []
          }
        },
        {
          "output_type": "display_data",
          "data": {
            "text/plain": [
              "[1] \"alpha = 0.05\""
            ],
            "text/latex": "'alpha = 0.05'",
            "text/markdown": "'alpha = 0.05'",
            "text/html": [
              "'alpha = 0.05'"
            ]
          },
          "metadata": {
            "tags": []
          }
        },
        {
          "output_type": "display_data",
          "data": {
            "text/plain": [
              "[1] \"Reject if t value lies outside +/- 1.959973 (critical values with 254614 d.o.f.)\""
            ],
            "text/latex": "'Reject if t value lies outside +/- 1.959973 (critical values with 254614 d.o.f.)'",
            "text/markdown": "'Reject if t value lies outside +/- 1.959973 (critical values with 254614 d.o.f.)'",
            "text/html": [
              "'Reject if t value lies outside +/- 1.959973 (critical values with 254614 d.o.f.)'"
            ]
          },
          "metadata": {
            "tags": []
          }
        },
        {
          "output_type": "display_data",
          "data": {
            "text/plain": [
              "[1] 254654"
            ],
            "text/latex": "254654",
            "text/markdown": "254654",
            "text/html": [
              "254654"
            ]
          },
          "metadata": {
            "tags": []
          }
        },
        {
          "output_type": "display_data",
          "data": {
            "text/plain": [
              "[1] 0"
            ],
            "text/latex": "0",
            "text/markdown": "0",
            "text/html": [
              "0"
            ]
          },
          "metadata": {
            "tags": []
          }
        },
        {
          "output_type": "display_data",
          "data": {
            "text/plain": [
              "[1] 1.959973"
            ],
            "text/latex": "1.95997330024809",
            "text/markdown": "1.95997330024809",
            "text/html": [
              "1.95997330024809"
            ]
          },
          "metadata": {
            "tags": []
          }
        },
        {
          "output_type": "display_data",
          "data": {
            "text/plain": [
              "\n",
              "\tWelch Two Sample t-test\n",
              "\n",
              "data:  same_morekids and diff_morekids\n",
              "t = 35.188, df = 254614, p-value < 2.2e-16\n",
              "alternative hypothesis: true difference in means is not equal to 0\n",
              "95 percent confidence interval:\n",
              " 0.06376406 0.07128646\n",
              "sample estimates:\n",
              "mean of x mean of y \n",
              "0.4139501 0.3464248 \n"
            ]
          },
          "metadata": {
            "tags": []
          }
        },
        {
          "output_type": "display_data",
          "data": {
            "text/plain": [
              "[1] \" t value: 35.188 > 1.959973\""
            ],
            "text/latex": "' t value: 35.188 > 1.959973'",
            "text/markdown": "' t value: 35.188 &gt; 1.959973'",
            "text/html": [
              "' t value: 35.188 &gt; 1.959973'"
            ]
          },
          "metadata": {
            "tags": []
          }
        },
        {
          "output_type": "display_data",
          "data": {
            "text/plain": [
              "[1] \"We can therefore reject the null hypothesis that there is no difference between the average fertility of women whose first two children are of the same sex and women whose first two children are of different sex\""
            ],
            "text/latex": "'We can therefore reject the null hypothesis that there is no difference between the average fertility of women whose first two children are of the same sex and women whose first two children are of different sex'",
            "text/markdown": "'We can therefore reject the null hypothesis that there is no difference between the average fertility of women whose first two children are of the same sex and women whose first two children are of different sex'",
            "text/html": [
              "'We can therefore reject the null hypothesis that there is no difference between the average fertility of women whose first two children are of the same sex and women whose first two children are of different sex'"
            ]
          },
          "metadata": {
            "tags": []
          }
        },
        {
          "output_type": "display_data",
          "data": {
            "text/plain": [
              "[1] \"This could also be due to the desire for a male heir that means that those with two female first children (samesex==1) are more likely to have further children.\""
            ],
            "text/latex": "'This could also be due to the desire for a male heir that means that those with two female first children (samesex==1) are more likely to have further children.'",
            "text/markdown": "'This could also be due to the desire for a male heir that means that those with two female first children (samesex==1) are more likely to have further children.'",
            "text/html": [
              "'This could also be due to the desire for a male heir that means that those with two female first children (samesex==1) are more likely to have further children.'"
            ]
          },
          "metadata": {
            "tags": []
          }
        }
      ]
    },
    {
      "cell_type": "code",
      "metadata": {
        "colab": {
          "base_uri": "https://localhost:8080/",
          "height": 191
        },
        "id": "NWu6MH3gTDmN",
        "outputId": "9f7b87dc-7dcd-46d4-b526-a98b969769e8"
      },
      "source": [
        "# d)\r\n",
        "'samesex might not be a valid instrument for morekids if it does not meet the exogeneity condition'\r\n",
        "'samesex could be correlated with with labour supply (i.e. weeksm1)'\r\n",
        "'It could be that having children of different sexes means more work for the mother, e.g. ferrying them to different activities, resulting in correlation between samesex and weeksm1'\r\n",
        "exog_reg <- lm_robust(formula = weeksm1 ~ samesex, data=fert)\r\n",
        "\r\n",
        "# F test of significance\r\n",
        "# hypothesis matrix requires single =\r\n",
        "\r\n",
        "# 1. Hypotheses:\r\n",
        "# H0: OLS coefficient on samesex = 0\r\n",
        "# Ha: OLS coefficient on samesex != 0\r\n",
        "\r\n",
        "# 2. Decision Rule:\r\n",
        "# Reject H0 if F statistic > 10\r\n",
        "\r\n",
        "# 3. Calculate F statistic\r\n",
        "ftest <- linearHypothesis(exog_reg, c(\"samesex=0\"), test=\"F\")\r\n",
        "ftest\r\n",
        "\r\n",
        "# 4. Compare F statistic to critical value:\r\n",
        "sprintf(\"%s > %s\", ftest$F[2], 10)\r\n",
        "\"Therefore we can reject the null hypothesis\"\r\n"
      ],
      "execution_count": 80,
      "outputs": [
        {
          "output_type": "display_data",
          "data": {
            "text/plain": [
              "[1] \"samesex might not be a valid instrument for morekids if it does not meet the exogeneity condition\""
            ],
            "text/latex": "'samesex might not be a valid instrument for morekids if it does not meet the exogeneity condition'",
            "text/markdown": "'samesex might not be a valid instrument for morekids if it does not meet the exogeneity condition'",
            "text/html": [
              "'samesex might not be a valid instrument for morekids if it does not meet the exogeneity condition'"
            ]
          },
          "metadata": {
            "tags": []
          }
        },
        {
          "output_type": "display_data",
          "data": {
            "text/plain": [
              "[1] \"samesex could be correlated with with labour supply (i.e. weeksm1)\""
            ],
            "text/latex": "'samesex could be correlated with with labour supply (i.e. weeksm1)'",
            "text/markdown": "'samesex could be correlated with with labour supply (i.e. weeksm1)'",
            "text/html": [
              "'samesex could be correlated with with labour supply (i.e. weeksm1)'"
            ]
          },
          "metadata": {
            "tags": []
          }
        },
        {
          "output_type": "display_data",
          "data": {
            "text/plain": [
              "[1] \"It could be that having children of different sexes means more work for the mother, e.g. ferrying them to different activities, resulting in correlation between samesex and weeksm1\""
            ],
            "text/latex": "'It could be that having children of different sexes means more work for the mother, e.g. ferrying them to different activities, resulting in correlation between samesex and weeksm1'",
            "text/markdown": "'It could be that having children of different sexes means more work for the mother, e.g. ferrying them to different activities, resulting in correlation between samesex and weeksm1'",
            "text/html": [
              "'It could be that having children of different sexes means more work for the mother, e.g. ferrying them to different activities, resulting in correlation between samesex and weeksm1'"
            ]
          },
          "metadata": {
            "tags": []
          }
        },
        {
          "output_type": "display_data",
          "data": {
            "text/plain": [
              "  Res.Df Df F       Pr(>F)      \n",
              "1 254653 NA      NA           NA\n",
              "2 254652  1 24.1957 8.708031e-07"
            ],
            "text/latex": "A anova: 2 × 4\n\\begin{tabular}{r|llll}\n  & Res.Df & Df & F & Pr(>F)\\\\\n  & <dbl> & <dbl> & <dbl> & <dbl>\\\\\n\\hline\n\t1 & 254653 & NA &      NA &           NA\\\\\n\t2 & 254652 &  1 & 24.1957 & 8.708031e-07\\\\\n\\end{tabular}\n",
            "text/markdown": "\nA anova: 2 × 4\n\n| <!--/--> | Res.Df &lt;dbl&gt; | Df &lt;dbl&gt; | F &lt;dbl&gt; | Pr(&gt;F) &lt;dbl&gt; |\n|---|---|---|---|---|\n| 1 | 254653 | NA |      NA |           NA |\n| 2 | 254652 |  1 | 24.1957 | 8.708031e-07 |\n\n",
            "text/html": [
              "<table>\n",
              "<caption>A anova: 2 × 4</caption>\n",
              "<thead>\n",
              "\t<tr><th></th><th scope=col>Res.Df</th><th scope=col>Df</th><th scope=col>F</th><th scope=col>Pr(&gt;F)</th></tr>\n",
              "\t<tr><th></th><th scope=col>&lt;dbl&gt;</th><th scope=col>&lt;dbl&gt;</th><th scope=col>&lt;dbl&gt;</th><th scope=col>&lt;dbl&gt;</th></tr>\n",
              "</thead>\n",
              "<tbody>\n",
              "\t<tr><th scope=row>1</th><td>254653</td><td>NA</td><td>     NA</td><td>          NA</td></tr>\n",
              "\t<tr><th scope=row>2</th><td>254652</td><td> 1</td><td>24.1957</td><td>8.708031e-07</td></tr>\n",
              "</tbody>\n",
              "</table>\n"
            ]
          },
          "metadata": {
            "tags": []
          }
        },
        {
          "output_type": "display_data",
          "data": {
            "text/plain": [
              "[1] \"24.1957035172991 > 10\""
            ],
            "text/latex": "'24.1957035172991 > 10'",
            "text/markdown": "'24.1957035172991 &gt; 10'",
            "text/html": [
              "'24.1957035172991 &gt; 10'"
            ]
          },
          "metadata": {
            "tags": []
          }
        }
      ]
    },
    {
      "cell_type": "code",
      "metadata": {
        "id": "l-4hLBsaYoe0"
      },
      "source": [
        "# e)"
      ],
      "execution_count": null,
      "outputs": []
    }
  ]
}